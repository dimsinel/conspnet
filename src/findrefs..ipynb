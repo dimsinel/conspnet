{
 "cells": [
  {
   "cell_type": "code",
   "execution_count": null,
   "metadata": {},
   "outputs": [],
   "source": [
    "rom pyzotero import zotero\n",
    "zot = zotero.Zotero('11080161', 'user','NtXorJanzgDmXMJ6uSbpvA2J')\n",
    "# Start at the begining, take at most \n",
    "limit = 20\n",
    "start = 1\n",
    "zot.add_parameters(limit=limit, start=start)\n",
    "#a = zot.top(limit=limit, start=start, q=\"garr\")\n",
    "zot.count_items()"
   ]
  }
 ],
 "metadata": {
  "language_info": {
   "name": "python"
  },
  "orig_nbformat": 4
 },
 "nbformat": 4,
 "nbformat_minor": 2
}
