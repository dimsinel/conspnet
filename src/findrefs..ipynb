{
 "cells": [
  {
   "cell_type": "code",
   "execution_count": 32,
   "metadata": {},
   "outputs": [],
   "source": [
    "from pyzotero import zotero\n",
    "import pandas as pd"
   ]
  },
  {
   "cell_type": "code",
   "execution_count": 114,
   "metadata": {},
   "outputs": [],
   "source": [
    "References = dict()\n",
    "listOfEntries = ['Abolitionism', 'Abortion', 'African Americans', 'Agent Orange', 'AIDS', 'Alien and Sedition Acts', 'American Indian Movement', 'Anarchists', 'Anti-Catholicism', 'Anticommunism', 'Anti-Federalists', 'Anti-Masonic Party', 'Anti-Rent War', 'Antisemitism', 'Apocalypticism', 'Area 51', 'Arnold, Benedict', 'Aryan Nations', 'Asian Americans', 'Atomic Secrets', 'Aurora', 'Bacon’s Rebellion', 'Banco Nazionale del Lavoro', 'Bank of Credit and Commerce International', 'Bank of England', 'Bank of the United States', 'Bank War', 'Barruel, Abbé', 'Bay of Pigs Invasion', 'Beam, Louis', 'Bell, Art', 'Berg, Alan', 'Biddle, Nicholas', 'Bilderbergers', 'Black Helicopters', 'Black Panthers', 'Booth, John Wilkes', 'Boston Massacre', 'Boston Tea Party', 'British Royal Family', 'Brown, John', 'Brown Scare', 'Brussell, Mae', 'Bryan, William Jennings', 'Bureau of Alcohol, Tobacco, and Firearms', 'Burr, Aaron', 'Burroughs, William S.', 'Bush, George', 'Cambodia, Secret Bombing of', 'Castro, Fidel', 'Cattle Mutilations', 'CIA', 'Chambers, Whittaker', 'Chappaquiddick', 'Chicago 7', 'Christian Identity', 'Christian Science', 'Church of the SubGenius', 'Civil Rights Movement', 'Clan of the Mystic Confederacy', 'Clinton, Bill and Hillary', 'Clinton Body Count', 'Coercive Acts', 'COINTELPRO', 'Cold War', 'Constitution, U.S.', 'Contrails', 'Conway Cabal', 'Copperheads', 'Corporations', 'Coughlin, Father Charles', 'Council on Foreign Relations', 'Covert Action Quarterly', 'Crédit Mobilier Scandal', 'Cronenberg, David', 'Cuban Missile Crisis', 'DeLillo, Don', 'Democratic-Republican Societies', 'Dick, Philip K', 'Disunion, Fears of', 'Dollar Bill', 'Domestic Terrorism', 'Dominion Theology', 'Donnelly, Ignatius', 'Dorr War', 'Drugs']"
   ]
  },
  {
   "cell_type": "code",
   "execution_count": 115,
   "metadata": {},
   "outputs": [
    {
     "data": {
      "text/plain": [
       "86"
      ]
     },
     "execution_count": 115,
     "metadata": {},
     "output_type": "execute_result"
    }
   ],
   "source": [
    "len(listOfEntries)\n",
    "\n"
   ]
  },
  {
   "cell_type": "code",
   "execution_count": null,
   "metadata": {},
   "outputs": [],
   "source": [
    "zot = zotero.Zotero('11080161', 'user','NtXorJanzgDmXMJ6uSbpvA2J')\n",
    "# Start at the begining, take at most \n",
    "limit = 20\n",
    "start = 1\n",
    "zot.add_parameters(limit=limit, start=start)\n",
    "#a = zot.top(limit=limit, start=start, q=\"garr\")\n",
    "zot.count_items()"
   ]
  },
  {
   "cell_type": "code",
   "execution_count": 72,
   "metadata": {},
   "outputs": [],
   "source": [
    "class myzotero: \n",
    "    def __init__(self):\n",
    "        self.zot = zotero.Zotero('11080161', 'user','NtXorJanzgDmXMJ6uSbpvA2J')\n",
    "        # Start at the begining, take at most \n",
    "        self.limit = 20\n",
    "        self.start = 1\n",
    "        self.zot.add_parameters(limit=self.limit, start=self.start)\n",
    "        #a = zot.top(limit=limit, start=start, q=\"garr\")\n",
    "        print(f'There are {self.zot.count_items()} items in lib')\n",
    "        \n",
    "    def getTaggedBib(self, tag):\n",
    "        b = self.zot.items(tag=tag) \n",
    "        for i in b:\n",
    "            isbn = 'n/a'\n",
    "            doi = 'n/a' \n",
    "            auths = []\n",
    "            \n",
    "            if 'ISBN' in i['data'] and i['data']['ISBN'] != '':\n",
    "                isbn = i['data']['ISBN']\n",
    "            if 'DOI' in i['data'] and i['data']['DOI'] != '': \n",
    "                doi = i['data']['DOI']\n",
    "            for x in i['data']['creators']:\n",
    "                if x['creatorType'] == 'author' or x['creatorType'] == 'editor' or x['creatorType'] == 'director' :\n",
    "                    #print (x, type(x))\n",
    "                    #print(x['lastName'])\n",
    "                    auths.append(x['creatorType'] + ':' + x['lastName']) \n",
    "            if auths == []:\n",
    "                auths =['n/a']             \n",
    "            print(f\"{i['data']['title']}, {i['data']['date']}, {auths}, isbn: {isbn}, DOI: {doi}\")\n"
   ]
  },
  {
   "cell_type": "code",
   "execution_count": 73,
   "metadata": {},
   "outputs": [
    {
     "name": "stdout",
     "output_type": "stream",
     "text": [
      "There are 1179 items in lib\n"
     ]
    }
   ],
   "source": [
    "zot=myzotero()"
   ]
  },
  {
   "cell_type": "code",
   "execution_count": 74,
   "metadata": {},
   "outputs": [
    {
     "name": "stdout",
     "output_type": "stream",
     "text": [
      "Conspiracy Theories: Secrecy and Power in American Culture, 1999, ['author:Fenster'], isbn: 978-0-8166-3242-8, DOI: n/a\n",
      "George Bush : the unauthorized biography, 1992, ['author:Tarpley'], isbn: 978-0-943235-05-9, DOI: n/a\n"
     ]
    }
   ],
   "source": [
    "tag = 'Bush, George'\n",
    "zot.getTaggedBib(tag)\n"
   ]
  },
  {
   "cell_type": "code",
   "execution_count": 66,
   "metadata": {},
   "outputs": [],
   "source": [
    "b = zot.zot.items(tag=tag) "
   ]
  },
  {
   "cell_type": "code",
   "execution_count": 68,
   "metadata": {},
   "outputs": [
    {
     "data": {
      "text/plain": [
       "'1999'"
      ]
     },
     "execution_count": 68,
     "metadata": {},
     "output_type": "execute_result"
    }
   ],
   "source": [
    "b[0]['data']['date']\n",
    "\n",
    "\n",
    "    \n"
   ]
  },
  {
   "cell_type": "code",
   "execution_count": 47,
   "metadata": {},
   "outputs": [
    {
     "data": {
      "text/plain": [
       "dict_keys(['creatorType', 'firstName', 'lastName'])"
      ]
     },
     "execution_count": 47,
     "metadata": {},
     "output_type": "execute_result"
    }
   ],
   "source": [
    "b[0]['data']['creators'][0].keys()\n"
   ]
  },
  {
   "cell_type": "code",
   "execution_count": null,
   "metadata": {},
   "outputs": [],
   "source": []
  }
 ],
 "metadata": {
  "kernelspec": {
   "display_name": "consrep",
   "language": "python",
   "name": "python3"
  },
  "language_info": {
   "codemirror_mode": {
    "name": "ipython",
    "version": 3
   },
   "file_extension": ".py",
   "mimetype": "text/x-python",
   "name": "python",
   "nbconvert_exporter": "python",
   "pygments_lexer": "ipython3",
   "version": "3.10.13"
  },
  "orig_nbformat": 4
 },
 "nbformat": 4,
 "nbformat_minor": 2
}
